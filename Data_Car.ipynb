{
  "nbformat": 4,
  "nbformat_minor": 0,
  "metadata": {
    "colab": {
      "provenance": []
    },
    "kernelspec": {
      "name": "python3",
      "display_name": "Python 3"
    },
    "language_info": {
      "name": "python"
    }
  },
  "cells": [
    {
      "cell_type": "markdown",
      "source": [
        "Nombre: Rosa Garrote Jofré\n",
        "\n"
      ],
      "metadata": {
        "id": "HqSClibidPdc"
      }
    },
    {
      "cell_type": "code",
      "execution_count": null,
      "metadata": {
        "id": "fJh0WIpf6Sab"
      },
      "outputs": [],
      "source": [
        "import pandas as pd\n",
        "import numpy as np\n",
        "\n",
        "import matplotlib.pyplot as plt\n",
        "\n",
        "import scipy.stats as ss"
      ]
    },
    {
      "cell_type": "code",
      "source": [
        "df = pd.read_excel('/content/vehiculos_inscritos_2022_Atacama1.xltx')\n",
        "df.head()"
      ],
      "metadata": {
        "colab": {
          "base_uri": "https://localhost:8080/",
          "height": 348
        },
        "id": "2QNlNn1T7SAZ",
        "outputId": "c23c8fee-90b1-46d3-a67c-0cd84689f475"
      },
      "execution_count": null,
      "outputs": [
        {
          "output_type": "execute_result",
          "data": {
            "text/plain": [
              "   dia_solicitud  mes_solicitud  anio_solicitud  numero_region  \\\n",
              "0              2             11            2022              3   \n",
              "1             22             11            2022              3   \n",
              "2             14             11            2022              3   \n",
              "3              4             11            2022              3   \n",
              "4             24             11            2022              3   \n",
              "\n",
              "    nombre_region  tipo descripcion_tipo       marca      modelo  \\\n",
              "0  III  - Atacama  CMNT        Camioneta         JAC          T8   \n",
              "1  III  - Atacama   STW              SUV     CHANGAN  CS35 PLUS    \n",
              "2  III  - Atacama  CMNT        Camioneta  MITSUBISHI       L-200   \n",
              "3  III  - Atacama  CMNT        Camioneta   CHEVROLET    COLORADO   \n",
              "4  III  - Atacama   STW              SUV          MG      MG ZX    \n",
              "\n",
              "                       version            color  anio_fabricacion  \\\n",
              "0            T8 PRO TM 4X4 2.0   PLATEADO PLATA              2023   \n",
              "1                     CS35 1.6   PLATEADO PLATA              2023   \n",
              "2  L200 DAKAR 4X4 DCAB 2.4 AUT     GRIS GRAFITO              2023   \n",
              "3         COLORADO 4X4 2.8 AUT          BLANCO               2023   \n",
              "4                       ZX 1.5  AZUL METALIZADO              2023   \n",
              "\n",
              "  estado_solicitud combustible  numero_puertas  numero_asientos  carga  \\\n",
              "0         ACEPTADA      DIESEL               4                5  900.0   \n",
              "1        INGRESADA    GASOLINA               0                0    0.0   \n",
              "2         ACEPTADA      DIESEL               4                5  940.0   \n",
              "3         ACEPTADA      DIESEL               4                4  974.0   \n",
              "4        INGRESADA    GASOLINA               5                5    0.0   \n",
              "\n",
              "  comuna_adquisicion  \n",
              "0            CALDERA  \n",
              "1            COPIAPÓ  \n",
              "2            COPIAPÓ  \n",
              "3   DIEGO DE ALMAGRO  \n",
              "4            COPIAPÓ  "
            ],
            "text/html": [
              "\n",
              "  <div id=\"df-7891113e-0f5e-4300-9f99-e893b70d287b\" class=\"colab-df-container\">\n",
              "    <div>\n",
              "<style scoped>\n",
              "    .dataframe tbody tr th:only-of-type {\n",
              "        vertical-align: middle;\n",
              "    }\n",
              "\n",
              "    .dataframe tbody tr th {\n",
              "        vertical-align: top;\n",
              "    }\n",
              "\n",
              "    .dataframe thead th {\n",
              "        text-align: right;\n",
              "    }\n",
              "</style>\n",
              "<table border=\"1\" class=\"dataframe\">\n",
              "  <thead>\n",
              "    <tr style=\"text-align: right;\">\n",
              "      <th></th>\n",
              "      <th>dia_solicitud</th>\n",
              "      <th>mes_solicitud</th>\n",
              "      <th>anio_solicitud</th>\n",
              "      <th>numero_region</th>\n",
              "      <th>nombre_region</th>\n",
              "      <th>tipo</th>\n",
              "      <th>descripcion_tipo</th>\n",
              "      <th>marca</th>\n",
              "      <th>modelo</th>\n",
              "      <th>version</th>\n",
              "      <th>color</th>\n",
              "      <th>anio_fabricacion</th>\n",
              "      <th>estado_solicitud</th>\n",
              "      <th>combustible</th>\n",
              "      <th>numero_puertas</th>\n",
              "      <th>numero_asientos</th>\n",
              "      <th>carga</th>\n",
              "      <th>comuna_adquisicion</th>\n",
              "    </tr>\n",
              "  </thead>\n",
              "  <tbody>\n",
              "    <tr>\n",
              "      <th>0</th>\n",
              "      <td>2</td>\n",
              "      <td>11</td>\n",
              "      <td>2022</td>\n",
              "      <td>3</td>\n",
              "      <td>III  - Atacama</td>\n",
              "      <td>CMNT</td>\n",
              "      <td>Camioneta</td>\n",
              "      <td>JAC</td>\n",
              "      <td>T8</td>\n",
              "      <td>T8 PRO TM 4X4 2.0</td>\n",
              "      <td>PLATEADO PLATA</td>\n",
              "      <td>2023</td>\n",
              "      <td>ACEPTADA</td>\n",
              "      <td>DIESEL</td>\n",
              "      <td>4</td>\n",
              "      <td>5</td>\n",
              "      <td>900.0</td>\n",
              "      <td>CALDERA</td>\n",
              "    </tr>\n",
              "    <tr>\n",
              "      <th>1</th>\n",
              "      <td>22</td>\n",
              "      <td>11</td>\n",
              "      <td>2022</td>\n",
              "      <td>3</td>\n",
              "      <td>III  - Atacama</td>\n",
              "      <td>STW</td>\n",
              "      <td>SUV</td>\n",
              "      <td>CHANGAN</td>\n",
              "      <td>CS35 PLUS</td>\n",
              "      <td>CS35 1.6</td>\n",
              "      <td>PLATEADO PLATA</td>\n",
              "      <td>2023</td>\n",
              "      <td>INGRESADA</td>\n",
              "      <td>GASOLINA</td>\n",
              "      <td>0</td>\n",
              "      <td>0</td>\n",
              "      <td>0.0</td>\n",
              "      <td>COPIAPÓ</td>\n",
              "    </tr>\n",
              "    <tr>\n",
              "      <th>2</th>\n",
              "      <td>14</td>\n",
              "      <td>11</td>\n",
              "      <td>2022</td>\n",
              "      <td>3</td>\n",
              "      <td>III  - Atacama</td>\n",
              "      <td>CMNT</td>\n",
              "      <td>Camioneta</td>\n",
              "      <td>MITSUBISHI</td>\n",
              "      <td>L-200</td>\n",
              "      <td>L200 DAKAR 4X4 DCAB 2.4 AUT</td>\n",
              "      <td>GRIS GRAFITO</td>\n",
              "      <td>2023</td>\n",
              "      <td>ACEPTADA</td>\n",
              "      <td>DIESEL</td>\n",
              "      <td>4</td>\n",
              "      <td>5</td>\n",
              "      <td>940.0</td>\n",
              "      <td>COPIAPÓ</td>\n",
              "    </tr>\n",
              "    <tr>\n",
              "      <th>3</th>\n",
              "      <td>4</td>\n",
              "      <td>11</td>\n",
              "      <td>2022</td>\n",
              "      <td>3</td>\n",
              "      <td>III  - Atacama</td>\n",
              "      <td>CMNT</td>\n",
              "      <td>Camioneta</td>\n",
              "      <td>CHEVROLET</td>\n",
              "      <td>COLORADO</td>\n",
              "      <td>COLORADO 4X4 2.8 AUT</td>\n",
              "      <td>BLANCO</td>\n",
              "      <td>2023</td>\n",
              "      <td>ACEPTADA</td>\n",
              "      <td>DIESEL</td>\n",
              "      <td>4</td>\n",
              "      <td>4</td>\n",
              "      <td>974.0</td>\n",
              "      <td>DIEGO DE ALMAGRO</td>\n",
              "    </tr>\n",
              "    <tr>\n",
              "      <th>4</th>\n",
              "      <td>24</td>\n",
              "      <td>11</td>\n",
              "      <td>2022</td>\n",
              "      <td>3</td>\n",
              "      <td>III  - Atacama</td>\n",
              "      <td>STW</td>\n",
              "      <td>SUV</td>\n",
              "      <td>MG</td>\n",
              "      <td>MG ZX</td>\n",
              "      <td>ZX 1.5</td>\n",
              "      <td>AZUL METALIZADO</td>\n",
              "      <td>2023</td>\n",
              "      <td>INGRESADA</td>\n",
              "      <td>GASOLINA</td>\n",
              "      <td>5</td>\n",
              "      <td>5</td>\n",
              "      <td>0.0</td>\n",
              "      <td>COPIAPÓ</td>\n",
              "    </tr>\n",
              "  </tbody>\n",
              "</table>\n",
              "</div>\n",
              "    <div class=\"colab-df-buttons\">\n",
              "\n",
              "  <div class=\"colab-df-container\">\n",
              "    <button class=\"colab-df-convert\" onclick=\"convertToInteractive('df-7891113e-0f5e-4300-9f99-e893b70d287b')\"\n",
              "            title=\"Convert this dataframe to an interactive table.\"\n",
              "            style=\"display:none;\">\n",
              "\n",
              "  <svg xmlns=\"http://www.w3.org/2000/svg\" height=\"24px\" viewBox=\"0 -960 960 960\">\n",
              "    <path d=\"M120-120v-720h720v720H120Zm60-500h600v-160H180v160Zm220 220h160v-160H400v160Zm0 220h160v-160H400v160ZM180-400h160v-160H180v160Zm440 0h160v-160H620v160ZM180-180h160v-160H180v160Zm440 0h160v-160H620v160Z\"/>\n",
              "  </svg>\n",
              "    </button>\n",
              "\n",
              "  <style>\n",
              "    .colab-df-container {\n",
              "      display:flex;\n",
              "      gap: 12px;\n",
              "    }\n",
              "\n",
              "    .colab-df-convert {\n",
              "      background-color: #E8F0FE;\n",
              "      border: none;\n",
              "      border-radius: 50%;\n",
              "      cursor: pointer;\n",
              "      display: none;\n",
              "      fill: #1967D2;\n",
              "      height: 32px;\n",
              "      padding: 0 0 0 0;\n",
              "      width: 32px;\n",
              "    }\n",
              "\n",
              "    .colab-df-convert:hover {\n",
              "      background-color: #E2EBFA;\n",
              "      box-shadow: 0px 1px 2px rgba(60, 64, 67, 0.3), 0px 1px 3px 1px rgba(60, 64, 67, 0.15);\n",
              "      fill: #174EA6;\n",
              "    }\n",
              "\n",
              "    .colab-df-buttons div {\n",
              "      margin-bottom: 4px;\n",
              "    }\n",
              "\n",
              "    [theme=dark] .colab-df-convert {\n",
              "      background-color: #3B4455;\n",
              "      fill: #D2E3FC;\n",
              "    }\n",
              "\n",
              "    [theme=dark] .colab-df-convert:hover {\n",
              "      background-color: #434B5C;\n",
              "      box-shadow: 0px 1px 3px 1px rgba(0, 0, 0, 0.15);\n",
              "      filter: drop-shadow(0px 1px 2px rgba(0, 0, 0, 0.3));\n",
              "      fill: #FFFFFF;\n",
              "    }\n",
              "  </style>\n",
              "\n",
              "    <script>\n",
              "      const buttonEl =\n",
              "        document.querySelector('#df-7891113e-0f5e-4300-9f99-e893b70d287b button.colab-df-convert');\n",
              "      buttonEl.style.display =\n",
              "        google.colab.kernel.accessAllowed ? 'block' : 'none';\n",
              "\n",
              "      async function convertToInteractive(key) {\n",
              "        const element = document.querySelector('#df-7891113e-0f5e-4300-9f99-e893b70d287b');\n",
              "        const dataTable =\n",
              "          await google.colab.kernel.invokeFunction('convertToInteractive',\n",
              "                                                    [key], {});\n",
              "        if (!dataTable) return;\n",
              "\n",
              "        const docLinkHtml = 'Like what you see? Visit the ' +\n",
              "          '<a target=\"_blank\" href=https://colab.research.google.com/notebooks/data_table.ipynb>data table notebook</a>'\n",
              "          + ' to learn more about interactive tables.';\n",
              "        element.innerHTML = '';\n",
              "        dataTable['output_type'] = 'display_data';\n",
              "        await google.colab.output.renderOutput(dataTable, element);\n",
              "        const docLink = document.createElement('div');\n",
              "        docLink.innerHTML = docLinkHtml;\n",
              "        element.appendChild(docLink);\n",
              "      }\n",
              "    </script>\n",
              "  </div>\n",
              "\n",
              "\n",
              "    <div id=\"df-c46e1724-ec35-456b-bfd0-0c26e195d80a\">\n",
              "      <button class=\"colab-df-quickchart\" onclick=\"quickchart('df-c46e1724-ec35-456b-bfd0-0c26e195d80a')\"\n",
              "                title=\"Suggest charts\"\n",
              "                style=\"display:none;\">\n",
              "\n",
              "<svg xmlns=\"http://www.w3.org/2000/svg\" height=\"24px\"viewBox=\"0 0 24 24\"\n",
              "     width=\"24px\">\n",
              "    <g>\n",
              "        <path d=\"M19 3H5c-1.1 0-2 .9-2 2v14c0 1.1.9 2 2 2h14c1.1 0 2-.9 2-2V5c0-1.1-.9-2-2-2zM9 17H7v-7h2v7zm4 0h-2V7h2v10zm4 0h-2v-4h2v4z\"/>\n",
              "    </g>\n",
              "</svg>\n",
              "      </button>\n",
              "\n",
              "<style>\n",
              "  .colab-df-quickchart {\n",
              "      --bg-color: #E8F0FE;\n",
              "      --fill-color: #1967D2;\n",
              "      --hover-bg-color: #E2EBFA;\n",
              "      --hover-fill-color: #174EA6;\n",
              "      --disabled-fill-color: #AAA;\n",
              "      --disabled-bg-color: #DDD;\n",
              "  }\n",
              "\n",
              "  [theme=dark] .colab-df-quickchart {\n",
              "      --bg-color: #3B4455;\n",
              "      --fill-color: #D2E3FC;\n",
              "      --hover-bg-color: #434B5C;\n",
              "      --hover-fill-color: #FFFFFF;\n",
              "      --disabled-bg-color: #3B4455;\n",
              "      --disabled-fill-color: #666;\n",
              "  }\n",
              "\n",
              "  .colab-df-quickchart {\n",
              "    background-color: var(--bg-color);\n",
              "    border: none;\n",
              "    border-radius: 50%;\n",
              "    cursor: pointer;\n",
              "    display: none;\n",
              "    fill: var(--fill-color);\n",
              "    height: 32px;\n",
              "    padding: 0;\n",
              "    width: 32px;\n",
              "  }\n",
              "\n",
              "  .colab-df-quickchart:hover {\n",
              "    background-color: var(--hover-bg-color);\n",
              "    box-shadow: 0 1px 2px rgba(60, 64, 67, 0.3), 0 1px 3px 1px rgba(60, 64, 67, 0.15);\n",
              "    fill: var(--button-hover-fill-color);\n",
              "  }\n",
              "\n",
              "  .colab-df-quickchart-complete:disabled,\n",
              "  .colab-df-quickchart-complete:disabled:hover {\n",
              "    background-color: var(--disabled-bg-color);\n",
              "    fill: var(--disabled-fill-color);\n",
              "    box-shadow: none;\n",
              "  }\n",
              "\n",
              "  .colab-df-spinner {\n",
              "    border: 2px solid var(--fill-color);\n",
              "    border-color: transparent;\n",
              "    border-bottom-color: var(--fill-color);\n",
              "    animation:\n",
              "      spin 1s steps(1) infinite;\n",
              "  }\n",
              "\n",
              "  @keyframes spin {\n",
              "    0% {\n",
              "      border-color: transparent;\n",
              "      border-bottom-color: var(--fill-color);\n",
              "      border-left-color: var(--fill-color);\n",
              "    }\n",
              "    20% {\n",
              "      border-color: transparent;\n",
              "      border-left-color: var(--fill-color);\n",
              "      border-top-color: var(--fill-color);\n",
              "    }\n",
              "    30% {\n",
              "      border-color: transparent;\n",
              "      border-left-color: var(--fill-color);\n",
              "      border-top-color: var(--fill-color);\n",
              "      border-right-color: var(--fill-color);\n",
              "    }\n",
              "    40% {\n",
              "      border-color: transparent;\n",
              "      border-right-color: var(--fill-color);\n",
              "      border-top-color: var(--fill-color);\n",
              "    }\n",
              "    60% {\n",
              "      border-color: transparent;\n",
              "      border-right-color: var(--fill-color);\n",
              "    }\n",
              "    80% {\n",
              "      border-color: transparent;\n",
              "      border-right-color: var(--fill-color);\n",
              "      border-bottom-color: var(--fill-color);\n",
              "    }\n",
              "    90% {\n",
              "      border-color: transparent;\n",
              "      border-bottom-color: var(--fill-color);\n",
              "    }\n",
              "  }\n",
              "</style>\n",
              "\n",
              "      <script>\n",
              "        async function quickchart(key) {\n",
              "          const quickchartButtonEl =\n",
              "            document.querySelector('#' + key + ' button');\n",
              "          quickchartButtonEl.disabled = true;  // To prevent multiple clicks.\n",
              "          quickchartButtonEl.classList.add('colab-df-spinner');\n",
              "          try {\n",
              "            const charts = await google.colab.kernel.invokeFunction(\n",
              "                'suggestCharts', [key], {});\n",
              "          } catch (error) {\n",
              "            console.error('Error during call to suggestCharts:', error);\n",
              "          }\n",
              "          quickchartButtonEl.classList.remove('colab-df-spinner');\n",
              "          quickchartButtonEl.classList.add('colab-df-quickchart-complete');\n",
              "        }\n",
              "        (() => {\n",
              "          let quickchartButtonEl =\n",
              "            document.querySelector('#df-c46e1724-ec35-456b-bfd0-0c26e195d80a button');\n",
              "          quickchartButtonEl.style.display =\n",
              "            google.colab.kernel.accessAllowed ? 'block' : 'none';\n",
              "        })();\n",
              "      </script>\n",
              "    </div>\n",
              "\n",
              "    </div>\n",
              "  </div>\n"
            ],
            "application/vnd.google.colaboratory.intrinsic+json": {
              "type": "dataframe",
              "variable_name": "df",
              "summary": "{\n  \"name\": \"df\",\n  \"rows\": 3875,\n  \"fields\": [\n    {\n      \"column\": \"dia_solicitud\",\n      \"properties\": {\n        \"dtype\": \"number\",\n        \"std\": 9,\n        \"min\": 1,\n        \"max\": 31,\n        \"num_unique_values\": 31,\n        \"samples\": [\n          1,\n          17,\n          13\n        ],\n        \"semantic_type\": \"\",\n        \"description\": \"\"\n      }\n    },\n    {\n      \"column\": \"mes_solicitud\",\n      \"properties\": {\n        \"dtype\": \"number\",\n        \"std\": 3,\n        \"min\": 1,\n        \"max\": 12,\n        \"num_unique_values\": 12,\n        \"samples\": [\n          7,\n          3,\n          11\n        ],\n        \"semantic_type\": \"\",\n        \"description\": \"\"\n      }\n    },\n    {\n      \"column\": \"anio_solicitud\",\n      \"properties\": {\n        \"dtype\": \"number\",\n        \"std\": 0,\n        \"min\": 2022,\n        \"max\": 2022,\n        \"num_unique_values\": 1,\n        \"samples\": [\n          2022\n        ],\n        \"semantic_type\": \"\",\n        \"description\": \"\"\n      }\n    },\n    {\n      \"column\": \"numero_region\",\n      \"properties\": {\n        \"dtype\": \"number\",\n        \"std\": 0,\n        \"min\": 3,\n        \"max\": 3,\n        \"num_unique_values\": 1,\n        \"samples\": [\n          3\n        ],\n        \"semantic_type\": \"\",\n        \"description\": \"\"\n      }\n    },\n    {\n      \"column\": \"nombre_region\",\n      \"properties\": {\n        \"dtype\": \"category\",\n        \"num_unique_values\": 1,\n        \"samples\": [\n          \"III  - Atacama\"\n        ],\n        \"semantic_type\": \"\",\n        \"description\": \"\"\n      }\n    },\n    {\n      \"column\": \"tipo\",\n      \"properties\": {\n        \"dtype\": \"category\",\n        \"num_unique_values\": 10,\n        \"samples\": [\n          \"BUS\"\n        ],\n        \"semantic_type\": \"\",\n        \"description\": \"\"\n      }\n    },\n    {\n      \"column\": \"descripcion_tipo\",\n      \"properties\": {\n        \"dtype\": \"category\",\n        \"num_unique_values\": 12,\n        \"samples\": [\n          \"Coche Mortuorio\"\n        ],\n        \"semantic_type\": \"\",\n        \"description\": \"\"\n      }\n    },\n    {\n      \"column\": \"marca\",\n      \"properties\": {\n        \"dtype\": \"category\",\n        \"num_unique_values\": 61,\n        \"samples\": [\n          \"JAC\"\n        ],\n        \"semantic_type\": \"\",\n        \"description\": \"\"\n      }\n    },\n    {\n      \"column\": \"modelo\",\n      \"properties\": {\n        \"dtype\": \"category\",\n        \"num_unique_values\": 313,\n        \"samples\": [\n          \"NPR\"\n        ],\n        \"semantic_type\": \"\",\n        \"description\": \"\"\n      }\n    },\n    {\n      \"column\": \"version\",\n      \"properties\": {\n        \"dtype\": \"category\",\n        \"num_unique_values\": 911,\n        \"samples\": [\n          \"XC90 II B6 4X4 2.0 AUT\"\n        ],\n        \"semantic_type\": \"\",\n        \"description\": \"\"\n      }\n    },\n    {\n      \"column\": \"color\",\n      \"properties\": {\n        \"dtype\": \"category\",\n        \"num_unique_values\": 239,\n        \"samples\": [\n          \"BLANCO NACARADO\"\n        ],\n        \"semantic_type\": \"\",\n        \"description\": \"\"\n      }\n    },\n    {\n      \"column\": \"anio_fabricacion\",\n      \"properties\": {\n        \"dtype\": \"number\",\n        \"std\": 0,\n        \"min\": 2020,\n        \"max\": 2023,\n        \"num_unique_values\": 4,\n        \"samples\": [\n          2022\n        ],\n        \"semantic_type\": \"\",\n        \"description\": \"\"\n      }\n    },\n    {\n      \"column\": \"estado_solicitud\",\n      \"properties\": {\n        \"dtype\": \"category\",\n        \"num_unique_values\": 2,\n        \"samples\": [\n          \"INGRESADA\"\n        ],\n        \"semantic_type\": \"\",\n        \"description\": \"\"\n      }\n    },\n    {\n      \"column\": \"combustible\",\n      \"properties\": {\n        \"dtype\": \"category\",\n        \"num_unique_values\": 4,\n        \"samples\": [\n          \"GASOLINA\"\n        ],\n        \"semantic_type\": \"\",\n        \"description\": \"\"\n      }\n    },\n    {\n      \"column\": \"numero_puertas\",\n      \"properties\": {\n        \"dtype\": \"number\",\n        \"std\": 1,\n        \"min\": 0,\n        \"max\": 7,\n        \"num_unique_values\": 7,\n        \"samples\": [\n          4\n        ],\n        \"semantic_type\": \"\",\n        \"description\": \"\"\n      }\n    },\n    {\n      \"column\": \"numero_asientos\",\n      \"properties\": {\n        \"dtype\": \"number\",\n        \"std\": 2,\n        \"min\": 0,\n        \"max\": 44,\n        \"num_unique_values\": 20,\n        \"samples\": [\n          5\n        ],\n        \"semantic_type\": \"\",\n        \"description\": \"\"\n      }\n    },\n    {\n      \"column\": \"carga\",\n      \"properties\": {\n        \"dtype\": \"number\",\n        \"std\": 3345.538499353745,\n        \"min\": 0.0,\n        \"max\": 41425.0,\n        \"num_unique_values\": 188,\n        \"samples\": [\n          957.0\n        ],\n        \"semantic_type\": \"\",\n        \"description\": \"\"\n      }\n    },\n    {\n      \"column\": \"comuna_adquisicion\",\n      \"properties\": {\n        \"dtype\": \"category\",\n        \"num_unique_values\": 112,\n        \"samples\": [\n          \"PUENTE ALTO\"\n        ],\n        \"semantic_type\": \"\",\n        \"description\": \"\"\n      }\n    }\n  ]\n}"
            }
          },
          "metadata": {},
          "execution_count": 3
        }
      ]
    },
    {
      "cell_type": "markdown",
      "source": [
        "PROBLEMA 01\n",
        "\n",
        "Estimación de proporciones — Tipo de vehículo La Dirección de Transporte desea estimar la proporción de vehículos de tipo Camioneta registrados en la Región de Atacama.\n",
        "\n",
        "1- Estime la proporción muestral de vehículos cuyo tipo es \"Camioneta\" (descripcion_tipo == 'Camioneta')."
      ],
      "metadata": {
        "id": "DeGHu-A68Mn3"
      }
    },
    {
      "cell_type": "code",
      "source": [
        "x = sum(df['descripcion_tipo'] == 'Camioneta')\n",
        "n = len(df)\n",
        "p_muestral = x/n\n",
        "print(f'La proporción muestral de vehículos cuya descripción es Camioneta es {p_muestral:.3f}')"
      ],
      "metadata": {
        "colab": {
          "base_uri": "https://localhost:8080/"
        },
        "id": "adVL10oZ8kKr",
        "outputId": "74875685-3048-467f-c721-3369f5ad3fe9"
      },
      "execution_count": null,
      "outputs": [
        {
          "output_type": "stream",
          "name": "stdout",
          "text": [
            "La proporción muestral de vehículos cuya descripción es Camioneta es 0.197\n"
          ]
        }
      ]
    },
    {
      "cell_type": "markdown",
      "source": [
        "2- Construya un intervalo de confianza al 95% para la proporción de camionetas registradas en 2022."
      ],
      "metadata": {
        "id": "3Bgoo3nc9dU2"
      }
    },
    {
      "cell_type": "code",
      "source": [
        "li, ls = ss.norm.interval(confidence = 0.95, loc = p_muestral, scale = np.sqrt(p_muestral*(1-p_muestral)/n))\n",
        "print(f'El intervalo de confianza al 95% para la proporción de camionetas registradas en 2022 esta entre {li:.2%} y {ls:.2%}')"
      ],
      "metadata": {
        "colab": {
          "base_uri": "https://localhost:8080/"
        },
        "id": "gf5z08y99epg",
        "outputId": "33212367-e4a6-466f-8a9e-97d36f6a72d8"
      },
      "execution_count": null,
      "outputs": [
        {
          "output_type": "stream",
          "name": "stdout",
          "text": [
            "El intervalo de confianza al 95% para la proporción de camionetas registradas en 2022 esta entre 18.49% y 21.00%\n"
          ]
        }
      ]
    },
    {
      "cell_type": "markdown",
      "source": [
        "3- Interprete el intervalo obtenido y explique qué condiciones deben cumplirse para que sea válido.\n",
        "\n",
        "El intervalo de confianza respecto a la proporción de vehículos de tipo camioneta registradas en el 2022 esta entre el 18 y 21%, considerando un intervalo de confianza de 95% en una muestra correspondiente a una región en específico. Para que esto se pueda cumplir se debe considerar que la selección de la muestra debe ser aleatoria, con un tamaño muestral que cumpla las condiciones de las proporciones n * p es igual o mayor a 10."
      ],
      "metadata": {
        "id": "wHg41x7v_le0"
      }
    },
    {
      "cell_type": "markdown",
      "source": [
        "PROBLEMA 02\n",
        "\n",
        "Se desea analizar la distribución de la carga útil de los vehículos registrados con solicitud aceptada en la Región de Atacama, considerando que la variable carga (en kilogramos) es continua y se aproxima a una distribución normal."
      ],
      "metadata": {
        "id": "Og3gg8uDDO2j"
      }
    },
    {
      "cell_type": "markdown",
      "source": [
        "1- Calcule la media y la desviación estándar muestral de la variable carga, considerando solo los vehículos cuya solicitud fue \"ACEPTADA\" y con valores no nulos de carga."
      ],
      "metadata": {
        "id": "-FWlqWB5DhUT"
      }
    },
    {
      "cell_type": "code",
      "source": [
        "mu, sigma = df[df['estado_solicitud'] == 'ACEPTADA']['carga'].agg(['mean', 'std'])\n",
        "print(f'La media es {mu:.4f} kilogramos y la desviación estándar es {sigma:.4f} kilogramos.')"
      ],
      "metadata": {
        "colab": {
          "base_uri": "https://localhost:8080/"
        },
        "id": "ekzZH9rgDelF",
        "outputId": "235b3b4d-ccec-4453-d1ec-f58c0ae02f3e"
      },
      "execution_count": null,
      "outputs": [
        {
          "output_type": "stream",
          "name": "stdout",
          "text": [
            "La media es 839.1060 kilogramos y la desviación estándar es 3386.4115 kilogramos.\n"
          ]
        }
      ]
    },
    {
      "cell_type": "markdown",
      "source": [
        "2- Suponga que la carga útil sigue una distribución normal. Calcule la probabilidad de que un vehículo tenga una carga útil:\n",
        "\n",
        "menor a 700 kg,\n",
        "\n",
        "entre 800 kg y 1000 kg,\n",
        "\n",
        "mayor a 1200 kg."
      ],
      "metadata": {
        "id": "4fm59p2qFR1C"
      }
    },
    {
      "cell_type": "code",
      "source": [
        "# P(X < 700)\n",
        "p2_2_1 = ss.norm.cdf(x = 700, loc = mu, scale = sigma)\n",
        "print(f'La probabilidad de que una carga tenga un peso menor a 700 kg es {p2_2_1:.2%}.')"
      ],
      "metadata": {
        "colab": {
          "base_uri": "https://localhost:8080/"
        },
        "id": "h8TjYxC5FYnh",
        "outputId": "23d8af12-1da3-4f83-b90e-495b6b5c0c99"
      },
      "execution_count": null,
      "outputs": [
        {
          "output_type": "stream",
          "name": "stdout",
          "text": [
            "La probabilidad de que una carga tenga un peso menor a 700 kg es 48.36%.\n"
          ]
        }
      ]
    },
    {
      "cell_type": "code",
      "source": [
        "# P(800 < X < 1000) = P(X < 1000) - P(X < 800)\n",
        "p2_2_2 = ss.norm.cdf(x = 1000, loc = mu, scale = sigma) - ss.norm.cdf(x = 800, loc = mu, scale = sigma)\n",
        "print(f'La probabilidad de que un vehículo tenga un peso entre 800 kg y 1000 kg es {p2_2_2:.2%}.')"
      ],
      "metadata": {
        "colab": {
          "base_uri": "https://localhost:8080/"
        },
        "id": "RaCqogILFwWS",
        "outputId": "cd9f8d21-2fc3-40f2-cf5c-a2280bedae1e"
      },
      "execution_count": null,
      "outputs": [
        {
          "output_type": "stream",
          "name": "stdout",
          "text": [
            "La probabilidad de que un vehículo tenga un peso entre 800 kg y 1000 kg es 2.36%.\n"
          ]
        }
      ]
    },
    {
      "cell_type": "code",
      "source": [
        "# P(X > 100)\n",
        "p2_2_3_2 = ss.norm.sf(x = 1200, loc = mu, scale = sigma)\n",
        "print(f'La probabilidad de que un vehículo tenga una carga mayor a 1200 kg es {p2_2_3_2:.2%}.')"
      ],
      "metadata": {
        "colab": {
          "base_uri": "https://localhost:8080/"
        },
        "id": "sEgKDk2sGZ4U",
        "outputId": "8afa2349-df84-47ac-bd34-70c696718c3c"
      },
      "execution_count": null,
      "outputs": [
        {
          "output_type": "stream",
          "name": "stdout",
          "text": [
            "La probabilidad de que un vehículo tenga una carga mayor a 1200 kg es 45.76%.\n"
          ]
        }
      ]
    },
    {
      "cell_type": "markdown",
      "source": [
        "3- Represente gráficamente la distribución normal obtenida con sus parámetros."
      ],
      "metadata": {
        "id": "_2m-tUUUHPgE"
      }
    },
    {
      "cell_type": "code",
      "source": [
        "df2_3 = df[df['estado_solicitud'] == 'ACEPTADA']['carga']\n",
        "x = np.linspace(df2_3.min(), df2_3.max(), 1000)\n",
        "pdf = ss.norm.pdf(x, loc = mu, scale = sigma)\n",
        "\n",
        "plt.hist(df2_3, bins = 20, density = True, label = 'Datos Reales')\n",
        "plt.plot(x, pdf, label = 'Distribución Normal')\n",
        "plt.title('Distribución de la carga')\n",
        "plt.xlabel('Carga (kg)')\n",
        "plt.ylabel('Solicitud Aceptada')\n",
        "plt.legend()\n",
        "plt.show()"
      ],
      "metadata": {
        "colab": {
          "base_uri": "https://localhost:8080/",
          "height": 472
        },
        "id": "cfPJz89nHZn9",
        "outputId": "aa2ef4aa-e589-4da0-9427-4cb838cabdad"
      },
      "execution_count": null,
      "outputs": [
        {
          "output_type": "display_data",
          "data": {
            "text/plain": [
              "<Figure size 640x480 with 1 Axes>"
            ],
            "image/png": "[encoded data removed]"
          },
          "metadata": {}
        }
      ]
    },
    {
      "cell_type": "code",
      "source": [
        "ss.probplot(df2_3, dist = 'norm', plot = plt)\n",
        "plt.show()"
      ],
      "metadata": {
        "colab": {
          "base_uri": "https://localhost:8080/",
          "height": 472
        },
        "id": "mP6-h47NTQ2D",
        "outputId": "ba6c4baa-2191-4196-9267-9c321c73301a"
      },
      "execution_count": null,
      "outputs": [
        {
          "output_type": "display_data",
          "data": {
            "text/plain": [
              "<Figure size 640x480 with 1 Axes>"
            ],
            "image/png": "[encoded data removed]"
          },
          "metadata": {}
        }
      ]
    },
    {
      "cell_type": "markdown",
      "source": [
        "¿Qué tan bien se ajusta el modelo de distribución normal a la distribución real de los datos? Justifique su respuesta considerando la forma, simetría y dispersión de la curva comparada con las barras del histograma.¿Qué información útil aporta la curva normal teórica sobre la distribución de la variable carga, especialmente en relación con la media?\n",
        "\n",
        "Desde el gráfico observado podemos deducir que la distribución desde la variable \"carga\" es mayormente asimétrica y sesgada hacia la derecha, pues se concentra en el lado de valores bajos, por lo que dicha distribución no seria normal.\n",
        "Otro punto a considerar es la dispersión de la curva, donde observamos que en este caso la curva no está distribuida de forma equilibrada, por lo que el valor medio no se puede evidenciar claramente porque esta no refleja un punto de frecuencia respecto a los datos o moda, dado que gran parte de las cargas estan por debajo de la media."
      ],
      "metadata": {
        "id": "cAr0RtMHI42q"
      }
    },
    {
      "cell_type": "markdown",
      "source": [
        "PROBLEMA 03\n",
        "\n",
        "Un analista quiere modelar probabilísticamente el número de vehículos que utilizan gasolina como combustible en muestras aleatorias de vehículos inscritos en la Región de Atacama. Para esto, se usa un modelo de distribución binomial.\n",
        "\n",
        "Se sabe que en la base de datos, aproximadamente el 62.3\n",
        " de los vehículos utilizan gasolina.\n",
        "\n",
        "Suponga que se toma una muestra aleatoria de 20 vehículos inscritos. Modele la variable aleatoria X ~ Bin(n=20, p=0.623), donde X es el número de vehículos a gasolina en la muestra.\n"
      ],
      "metadata": {
        "id": "Y6CacOAiPA3Y"
      }
    },
    {
      "cell_type": "markdown",
      "source": [
        "1- Calcule la probabilidad de que exactamente 10 de los 20 vehículos utilicen gasolina."
      ],
      "metadata": {
        "id": "8755DGGzQOPc"
      }
    },
    {
      "cell_type": "code",
      "source": [
        "# P(X = 10)\n",
        "p3_2_1 = ss.binom.pmf(k = 10, n = 20, p = 0.623)\n",
        "print(f'La probabilidad de que exactamente 10 de 20 vehículos utilicen gasolina es {p3_2_1:.2%}.')"
      ],
      "metadata": {
        "colab": {
          "base_uri": "https://localhost:8080/"
        },
        "id": "fdCFekBFQPYY",
        "outputId": "e2f383d3-15d1-4611-8f82-34b58ee32a42"
      },
      "execution_count": null,
      "outputs": [
        {
          "output_type": "stream",
          "name": "stdout",
          "text": [
            "La probabilidad de que exactamente 10 de 20 vehículos utilicen gasolina es 9.44%.\n"
          ]
        }
      ]
    },
    {
      "cell_type": "markdown",
      "source": [
        "2- Calcule la probabilidad de que al menos 15 utilicen gasolina."
      ],
      "metadata": {
        "id": "l9YlLa4xQjYz"
      }
    },
    {
      "cell_type": "code",
      "source": [
        "# P(X >= 15) = 1 - P(X <= 14)\n",
        "p3_2_2 = 1 - ss.binom.cdf(k = 14, n = 20, p = 0.623)\n",
        "print(f'La probabilidad de que al menos 15 vehículos utilicen gasolina es {p3_2_2:.2%}.')"
      ],
      "metadata": {
        "colab": {
          "base_uri": "https://localhost:8080/"
        },
        "id": "Qj8-G8KAQky7",
        "outputId": "8187b29b-8f5e-47f0-8c46-332241f0e16c"
      },
      "execution_count": null,
      "outputs": [
        {
          "output_type": "stream",
          "name": "stdout",
          "text": [
            "La probabilidad de que al menos 15 vehículos utilicen gasolina es 17.40%.\n"
          ]
        }
      ]
    },
    {
      "cell_type": "markdown",
      "source": [
        "3- Calcule la probabilidad de que entre 12 y 16 (inclusive) utilicen gasolina."
      ],
      "metadata": {
        "id": "zqhTfWYPSFoi"
      }
    },
    {
      "cell_type": "code",
      "source": [
        "# P(12 <= X <= 16) = P(X <= 16) - P(X <=11)\n",
        "p3_2_3 = ss.binom.cdf(k = 16, n = 20, p = 0.623) - ss.binom.cdf(k = 11, n = 20, p = 0.623)\n",
        "print(f'La probabilidad de que entre 12 y 16 (inclusive) utilicen gasolina es {p3_2_3:.2%}.')"
      ],
      "metadata": {
        "colab": {
          "base_uri": "https://localhost:8080/"
        },
        "id": "Gx_o6rMQSHBV",
        "outputId": "ff9d3b0a-8e08-4cf2-8904-73be22639e68"
      },
      "execution_count": null,
      "outputs": [
        {
          "output_type": "stream",
          "name": "stdout",
          "text": [
            "La probabilidad de que entre 12 y 16 (inclusive) utilicen gasolina es 65.01%.\n"
          ]
        }
      ]
    },
    {
      "cell_type": "markdown",
      "source": [
        "4- Grafique la distribución binomial , es decir, la función de masa de probabilidad (pmf) Interprete el comportamiento de esta variable aleatoria. ¿Es simétrica? ¿Cuál es el valor más probable (moda)?"
      ],
      "metadata": {
        "id": "-JSG8DC5VXcV"
      }
    },
    {
      "cell_type": "code",
      "source": [
        "plt.bar(x, fmp)\n",
        "plt.title(f'Función de Masa de Probabilidad de $X \\leadsto B(n = 20, p = 0.623)$')\n",
        "plt.xlabel('Número de Vehículos que utilizan gasolina')\n",
        "plt.ylabel('Función de Masa de Probabilidad')\n",
        "plt.xticks(x)\n",
        "plt.show()"
      ],
      "metadata": {
        "colab": {
          "base_uri": "https://localhost:8080/",
          "height": 475
        },
        "id": "Ye7IKQD-VYoH",
        "outputId": "89919bed-0bba-4799-f237-1a1b51ec0926"
      },
      "execution_count": null,
      "outputs": [
        {
          "output_type": "display_data",
          "data": {
            "text/plain": [
              "<Figure size 640x480 with 1 Axes>"
            ],
            "image/png": "[encoded data removed]"
          },
          "metadata": {}
        }
      ]
    },
    {
      "cell_type": "markdown",
      "source": [
        "Interprete el comportamiento de esta variable aleatoria. ¿Es simétrica? ¿Cuál es el valor más probable (moda)?\n",
        "\n",
        "El gráfico de distribución binominal que podemos observar, demuestra una distribución casi simétrica, donde está ligeramente sesgada hacia la izquierda, por lo que no es completamente simétrica pero si se acerca mucho.\n",
        "Por otra parte, el valor más probable (moda) se encuentra alrededor de x = 12.\n",
        "En conclusión la muestra de 20 vehículos indica que 12 de estos utilizan gasolina, concentrándose la probabilidad en este valor como media.\n"
      ],
      "metadata": {
        "id": "4LF9piOkWoPq"
      }
    },
    {
      "cell_type": "markdown",
      "source": [],
      "metadata": {
        "id": "dyJiyLwe9WYl"
      }
    }
  ]
}